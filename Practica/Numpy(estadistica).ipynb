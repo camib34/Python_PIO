{
 "cells": [
  {
   "cell_type": "code",
   "execution_count": 3,
   "metadata": {},
   "outputs": [],
   "source": [
    "import numpy as np "
   ]
  },
  {
   "cell_type": "markdown",
   "metadata": {},
   "source": [
    "Analizar un conjunto de datos de temperaturas diarias para calcular estadísticas como la media, la mediana, la desviación estándar y encontrar los días con temperaturas máximas y mínimas."
   ]
  },
  {
   "cell_type": "code",
   "execution_count": 4,
   "metadata": {},
   "outputs": [],
   "source": [
    "temperatura = np.array([30, 32, 31, 29, 28, 35, 36, 33, 31, 30, 29, 28, 27, 26, 25, 24, 23, 22, 21, 20, 19, 18, 17, 16, 15, 14, 13, 12, 11, 10])\n"
   ]
  },
  {
   "cell_type": "code",
   "execution_count": 5,
   "metadata": {},
   "outputs": [
    {
     "name": "stdout",
     "output_type": "stream",
     "text": [
      "la media de las temperaturas es 23.5\n"
     ]
    }
   ],
   "source": [
    "#MEDIA\n",
    "Media = np.mean(temperatura)\n",
    "print (f\"la media de las temperaturas es {Media}\")"
   ]
  },
  {
   "cell_type": "code",
   "execution_count": 6,
   "metadata": {},
   "outputs": [
    {
     "name": "stdout",
     "output_type": "stream",
     "text": [
      "la media de las temperaturas es 24.5\n"
     ]
    }
   ],
   "source": [
    "#Mediana\n",
    "Mediana = np.median(temperatura)\n",
    "print (f\"la media de las temperaturas es {Mediana}\")"
   ]
  },
  {
   "cell_type": "code",
   "execution_count": 5,
   "metadata": {},
   "outputs": [
    {
     "name": "stdout",
     "output_type": "stream",
     "text": [
      "la media de las temperaturas es 7.491105837369184\n"
     ]
    }
   ],
   "source": [
    "#Desviacion estandar\n",
    "Desviacion_estandar = np.std(temperatura)\n",
    "print (f\"la media de las temperaturas es {Desviacion_estandar}\")"
   ]
  },
  {
   "cell_type": "code",
   "execution_count": 6,
   "metadata": {},
   "outputs": [
    {
     "name": "stdout",
     "output_type": "stream",
     "text": [
      "la temperatura mas alta fue de 36\n",
      "la temperatura mas baja fue de 10\n"
     ]
    }
   ],
   "source": [
    "#Valores maximos y minimos\n",
    "\n",
    "ValorMax = np.max(temperatura) \n",
    "print (f\"la temperatura mas alta fue de {ValorMax}\") \n",
    "\n",
    "ValorMin = np.min(temperatura) \n",
    "print (f\"la temperatura mas baja fue de {ValorMin}\") "
   ]
  },
  {
   "cell_type": "code",
   "execution_count": 7,
   "metadata": {},
   "outputs": [
    {
     "name": "stdout",
     "output_type": "stream",
     "text": [
      "el dia con la temperatura mas alta es el dia 7\n",
      "el dia con la temperatura mas baja es el dia 30\n"
     ]
    }
   ],
   "source": [
    "#posiciones de los Valores maximos y minimos\n",
    "#\"argmax\" da la posicion en el arreglo del valor maximo al igual que \"argmin\"\n",
    "ValorMax = np.argmax(temperatura) + 1\n",
    "print (f\"el dia con la temperatura mas alta es el dia {ValorMax}\") \n",
    "\n",
    "ValorMin = np.argmin(temperatura) + 1\n",
    "print (f\"el dia con la temperatura mas baja es el dia {ValorMin}\") \n"
   ]
  },
  {
   "cell_type": "code",
   "execution_count": null,
   "metadata": {},
   "outputs": [],
   "source": []
  }
 ],
 "metadata": {
  "kernelspec": {
   "display_name": "Python 3",
   "language": "python",
   "name": "python3"
  },
  "language_info": {
   "codemirror_mode": {
    "name": "ipython",
    "version": 3
   },
   "file_extension": ".py",
   "mimetype": "text/x-python",
   "name": "python",
   "nbconvert_exporter": "python",
   "pygments_lexer": "ipython3",
   "version": "3.10.4"
  }
 },
 "nbformat": 4,
 "nbformat_minor": 2
}
