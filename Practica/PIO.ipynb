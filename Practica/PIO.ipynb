{
 "cells": [
  {
   "cell_type": "code",
   "execution_count": 4,
   "metadata": {},
   "outputs": [
    {
     "name": "stdout",
     "output_type": "stream",
     "text": [
      "Error: El divisor no puede ser cero.\n"
     ]
    }
   ],
   "source": [
    "def operaciones_basicas(num1, num2):\n",
    "    if num2 != 0:\n",
    "        suma = num1 + num2\n",
    "        resta = num1 - num2\n",
    "        multiplicacion = num1 * num2\n",
    "        division = num1 / num2\n",
    "        print(f\"Suma: {suma}\")\n",
    "        print(f\"Resta: {resta}\")\n",
    "        print(f\"Multiplicación: {multiplicacion}\")\n",
    "        print(f\"División: {division}\")\n",
    "    else:\n",
    "        print(\"Error: El divisor no puede ser cero.\")\n",
    "\n",
    "numero1 = int(input(\"Ingresa el primer número: \"))\n",
    "numero2 = int(input(\"Ingresa el segundo número (diferente de cero): \"))\n",
    "\n",
    "operaciones_basicas(numero1, numero2)\n"
   ]
  },
  {
   "cell_type": "code",
   "execution_count": 11,
   "metadata": {},
   "outputs": [
    {
     "name": "stdout",
     "output_type": "stream",
     "text": [
      "el numero 2 es mayor\n"
     ]
    }
   ],
   "source": [
    "n1 = int(input(\"Ingrese numero 1\"))\n",
    "n2 = int(input(\"Ingrese numero 2\"))\n",
    "\n",
    "if n1 > n2:\n",
    "    print(\"el numero 1 es mayor que el numero 2\")\n",
    "elif n1 == n2:\n",
    "    print(\"los numeros son iguales\")\n",
    "else:\n",
    "    print(\"el numero 2 es mayor\")"
   ]
  },
  {
   "cell_type": "code",
   "execution_count": 13,
   "metadata": {},
   "outputs": [
    {
     "name": "stdout",
     "output_type": "stream",
     "text": [
      "'e' es una vocal.\n"
     ]
    }
   ],
   "source": [
    "letra = input(\"Ingresa una letra: \").lower()  \n",
    "if letra in \"aeiou\":\n",
    "    print(f\"'{letra}' es una vocal.\")\n",
    "else:\n",
    "    print(f\"'{letra}' es una consonante.\")\n"
   ]
  },
  {
   "cell_type": "markdown",
   "metadata": {},
   "source": [
    "Algoritmo que permita mostrar los numeros en secuencia pasando por consola el inicio y el final"
   ]
  },
  {
   "cell_type": "code",
   "execution_count": 8,
   "metadata": {},
   "outputs": [
    {
     "name": "stdout",
     "output_type": "stream",
     "text": [
      "1\n",
      "2\n",
      "3\n",
      "4\n",
      "5\n",
      "Valores incorrectos\n"
     ]
    }
   ],
   "source": [
    "inicio = int(input(\"Ingresa el número de inicio: \"))\n",
    "fin = int(input(\"Ingresa el número de fin: \"))\n",
    "\n",
    "while inicio <= fin:\n",
    "    print(inicio)\n",
    "    inicio += 1\n",
    "\n"
   ]
  },
  {
   "cell_type": "markdown",
   "metadata": {},
   "source": [
    "Sume números hasta que ingrese un 0 (cero)"
   ]
  },
  {
   "cell_type": "code",
   "execution_count": 9,
   "metadata": {},
   "outputs": [
    {
     "name": "stdout",
     "output_type": "stream",
     "text": [
      "20\n"
     ]
    }
   ],
   "source": [
    "suma = 0\n",
    "while True:\n",
    "    numero = int(input(\"ingresa un numero, (0 detiene el programa)\"))\n",
    "    if numero != 0:\n",
    "        suma = suma + numero\n",
    "    else:\n",
    "        break\n",
    "print (suma)"
   ]
  },
  {
   "cell_type": "markdown",
   "metadata": {},
   "source": [
    "Contar pares e impares"
   ]
  },
  {
   "cell_type": "code",
   "execution_count": null,
   "metadata": {},
   "outputs": [],
   "source": []
  },
  {
   "cell_type": "markdown",
   "metadata": {},
   "source": [
    "Contar Caracteres"
   ]
  },
  {
   "cell_type": "code",
   "execution_count": 14,
   "metadata": {},
   "outputs": [
    {
     "name": "stdout",
     "output_type": "stream",
     "text": [
      "la palabra Camilocha tiene 9, caracteres\n"
     ]
    }
   ],
   "source": [
    "Palabra = input(\"ingresar una palabra\")\n",
    "numero_de_letras = len(Palabra)\n",
    "\n",
    "print(f\"la palabra {Palabra} tiene {numero_de_letras}, caracteres.\")"
   ]
  },
  {
   "cell_type": "code",
   "execution_count": null,
   "metadata": {},
   "outputs": [],
   "source": [
    "for i in range(1, 100):\n",
    "    if i % 3 == 0 and i % 5 == 0:\n",
    "        print (\"FIZZBUZZ\")\n",
    "    elif i % 3 == 0:\n",
    "        print(\"FIZZ\")\n",
    "    elif i % 5 == 0:\n",
    "        print(\"BUZZ\")\n",
    "    else:\n",
    "        print(i)\n",
    "        "
   ]
  },
  {
   "cell_type": "code",
   "execution_count": 83,
   "metadata": {},
   "outputs": [
    {
     "name": "stdout",
     "output_type": "stream",
     "text": [
      "4\n"
     ]
    }
   ],
   "source": [
    "#anagrama\n",
    "palabra_1 = \"roma\"\n",
    "palabra = len(palabra_1)\n",
    "palabra_2 = \"amor\" #[str(input(\"Ingresa una palabra 1\"))]\n",
    "anagrama = 0\n",
    "\n",
    "for palabra_1 in palabra_2:\n",
    "    anagrama = anagrama + 1\n",
    "    \n",
    "print(palabra)\n"
   ]
  },
  {
   "cell_type": "code",
   "execution_count": null,
   "metadata": {},
   "outputs": [],
   "source": [
    "n1 = int(input(\"Ingrese un numero\"))\n",
    "\n",
    "for i in range (0,n1+1):\n",
    "    print (i)"
   ]
  },
  {
   "cell_type": "code",
   "execution_count": null,
   "metadata": {},
   "outputs": [],
   "source": [
    "tabla = int(input(\"que tabla quieres\"))\n",
    "\n",
    "for i in range(0, 13):\n",
    "    print (f\"{tabla} x {i} = {i * tabla}\")\n",
    "    \n",
    "    "
   ]
  },
  {
   "cell_type": "code",
   "execution_count": 95,
   "metadata": {},
   "outputs": [
    {
     "name": "stdout",
     "output_type": "stream",
     "text": [
      "     [1]\n",
      "    [1, 1]\n",
      "   [1, 2, 1]\n",
      "  [1, 3, 3, 1]\n",
      " [1, 4, 6, 4, 1]\n"
     ]
    }
   ],
   "source": [
    "def pascal_triangle(numRows):\n",
    "    # Inicializamos la primera fila con un 1\n",
    "    trow = [1]\n",
    "    for i in range(numRows):\n",
    "        # Imprimimos la fila actual\n",
    "        print(\" \" * (numRows - i), end=\"\")\n",
    "        print(trow)\n",
    "        \n",
    "        # Calculamos la siguiente fila\n",
    "        next_row = [1]\n",
    "        for j in range(len(trow) - 1):\n",
    "            next_row.append(trow[j] + trow[j + 1])\n",
    "        next_row.append(1)\n",
    "        trow = next_row\n",
    "\n",
    "pascal_triangle(5)"
   ]
  }
 ],
 "metadata": {
  "kernelspec": {
   "display_name": "Python 3",
   "language": "python",
   "name": "python3"
  },
  "language_info": {
   "codemirror_mode": {
    "name": "ipython",
    "version": 3
   },
   "file_extension": ".py",
   "mimetype": "text/x-python",
   "name": "python",
   "nbconvert_exporter": "python",
   "pygments_lexer": "ipython3",
   "version": "3.10.4"
  }
 },
 "nbformat": 4,
 "nbformat_minor": 2
}
